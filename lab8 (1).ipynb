{
  "cells": [
    {
      "cell_type": "markdown",
      "metadata": {
        "id": "gmtqm6CCfmaK"
      },
      "source": [
        "Shravan P\n",
        "1RVU22BSC095"
      ]
    },
    {
      "cell_type": "code",
      "execution_count": null,
      "metadata": {
        "id": "tjcQJXOLfjFp"
      },
      "outputs": [],
      "source": [
        "import torch\n",
        "import torch.nn as nn\n",
        "import torch.optim as optim\n",
        "import torch.nn.functional as F\n",
        "from torchvision import datasets, transforms\n",
        "from torch.utils.data import DataLoader"
      ]
    },
    {
      "cell_type": "code",
      "execution_count": null,
      "metadata": {
        "id": "WgArt5qLfr5x"
      },
      "outputs": [],
      "source": [
        "class TeacherModel(nn.Module):\n",
        "    def __init__(self):\n",
        "        super(TeacherModel, self).__init__()\n",
        "        self.fc1 = nn.Linear(28*28, 1200)\n",
        "        self.fc2 = nn.Linear(1200, 1200)\n",
        "        self.fc3 = nn.Linear(1200, 10)\n",
        "\n",
        "    def forward(self, x):\n",
        "        x = x.view(-1, 28*28)\n",
        "        x = F.relu(self.fc1(x))\n",
        "        x = F.relu(self.fc2(x))\n",
        "        x = self.fc3(x)\n",
        "        return x"
      ]
    },
    {
      "cell_type": "code",
      "execution_count": null,
      "metadata": {
        "colab": {
          "base_uri": "https://localhost:8080/"
        },
        "id": "Yxp8meKQft4r",
        "outputId": "cbd24b24-1b51-404f-d018-9a869b0df19a"
      },
      "outputs": [
        {
          "name": "stderr",
          "output_type": "stream",
          "text": [
            "100%|██████████| 9.91M/9.91M [00:00<00:00, 15.5MB/s]\n",
            "100%|██████████| 28.9k/28.9k [00:00<00:00, 488kB/s]\n",
            "100%|██████████| 1.65M/1.65M [00:00<00:00, 3.83MB/s]\n",
            "100%|██████████| 4.54k/4.54k [00:00<00:00, 6.02MB/s]\n"
          ]
        }
      ],
      "source": [
        "transform = transforms.Compose([transforms.ToTensor(), transforms.Normalize((0.5,), (0.5,))])\n",
        "train_dataset = datasets.MNIST(root='./data', train=True, download=True, transform=transform)\n",
        "test_dataset = datasets.MNIST(root='./data', train=False, download=True, transform=transform)\n",
        "train_loader = DataLoader(dataset=train_dataset, batch_size=64, shuffle=True)\n",
        "test_loader = DataLoader(dataset=test_dataset, batch_size=64, shuffle=False)"
      ]
    },
    {
      "cell_type": "code",
      "execution_count": null,
      "metadata": {
        "id": "hM6b3sSOfwl6"
      },
      "outputs": [],
      "source": [
        "def distillation_loss(student_logits, teacher_logits, labels, temperature, alpha):\n",
        "    soft_teacher = F.softmax(teacher_logits / temperature, dim=1)\n",
        "    soft_student = F.log_softmax(student_logits / temperature, dim=1)\n",
        "    kl_div = F.kl_div(soft_student, soft_teacher) * (temperature ** 2)\n",
        "    ce_loss = F.cross_entropy(student_logits, labels)\n",
        "    return alpha * kl_div + (1 - alpha) * ce_loss"
      ]
    },
    {
      "cell_type": "code",
      "execution_count": null,
      "metadata": {
        "id": "VMOqH18Jfy4n"
      },
      "outputs": [],
      "source": [
        "teacher = TeacherModel()\n",
        "optimizer = optim.Adam(teacher.parameters(), lr=0.001)\n",
        "criterion = nn.CrossEntropyLoss()"
      ]
    },
    {
      "cell_type": "code",
      "execution_count": null,
      "metadata": {
        "colab": {
          "background_save": true,
          "base_uri": "https://localhost:8080/"
        },
        "id": "FzRMHv0mf1M5",
        "outputId": "65f27dc6-8225-4ea4-e837-a333e06ab975"
      },
      "outputs": [
        {
          "name": "stdout",
          "output_type": "stream",
          "text": [
            "Teacher Epoch 1/5, Loss: 0.39117157459259033\n",
            "Teacher Epoch 2/5, Loss: 0.28249940276145935\n",
            "Teacher Epoch 3/5, Loss: 0.005946254823356867\n",
            "Teacher Epoch 4/5, Loss: 0.003937932662665844\n",
            "Teacher Epoch 5/5, Loss: 0.11731623858213425\n"
          ]
        }
      ],
      "source": [
        "teacher = TeacherModel()\n",
        "optimizer = optim.Adam(teacher.parameters(), lr=0.001)\n",
        "criterion = nn.CrossEntropyLoss()\n",
        "def train_teacher(model, train_loader, optimizer, criterion, epochs=5):\n",
        "    model.train()\n",
        "    for epoch in range(epochs):\n",
        "        for data, target in train_loader:\n",
        "            optimizer.zero_grad()\n",
        "            output = model(data)\n",
        "            loss = criterion(output, target)\n",
        "            loss.backward()\n",
        "            optimizer.step()\n",
        "        print(f\"Teacher Epoch {epoch+1}/{epochs}, Loss: {loss.item()}\")\n",
        "\n",
        "train_teacher(teacher, train_loader, optimizer, criterion)"
      ]
    },
    {
      "cell_type": "code",
      "execution_count": 7,
      "metadata": {
        "id": "Wawc7NxJf2__"
      },
      "outputs": [],
      "source": [
        "import torch.nn as nn\n",
        "import torch.nn.functional as F\n",
        "\n",
        "class StudentModel(nn.Module):\n",
        "    def __init__(self):\n",
        "        super(StudentModel, self).__init__()\n",
        "        # Define the layers of the student model here\n",
        "        # This is a simple example, you can adjust the architecture as needed\n",
        "        self.fc1 = nn.Linear(28*28, 300)  # Reduced number of neurons compared to Teacher\n",
        "        self.fc2 = nn.Linear(300, 10)\n",
        "\n",
        "    def forward(self, x):\n",
        "        x = x.view(-1, 28*28)\n",
        "        x = F.relu(self.fc1(x))\n",
        "        x = self.fc2(x)\n",
        "        return x"
      ]
    },
    {
      "cell_type": "code",
      "execution_count": 8,
      "metadata": {
        "id": "UhqwoCDqf4t-"
      },
      "outputs": [],
      "source": [
        "def evaluate(model, test_loader):\n",
        "    model.eval()\n",
        "    correct = 0\n",
        "    total = 0\n",
        "    with torch.no_grad():\n",
        "        for data, target in test_loader:\n",
        "            output = model(data)\n",
        "            _, predicted = torch.max(output.data, 1)\n",
        "            total += target.size(0)\n",
        "            correct += (predicted == target).sum().item()\n",
        "    accuracy = 100 * correct / total\n",
        "    return accuracy\n",
        "\n",
        "\n",
        "\n",
        "\n",
        "def count_parameters(model):\n",
        "    return sum(p.numel() for p in model.parameters())"
      ]
    },
    {
      "cell_type": "code",
      "execution_count": 9,
      "metadata": {
        "id": "aVuFfvmdf6uW",
        "colab": {
          "base_uri": "https://localhost:8080/"
        },
        "outputId": "6e61094f-ed0c-4c2d-9e1e-60e40a449e4e"
      },
      "outputs": [
        {
          "output_type": "stream",
          "name": "stdout",
          "text": [
            "Teacher Model Parameters: 2395210\n",
            "Student Model Parameters: 238510\n",
            "Teacher Accuracy: 97.15%, Parameters: 2395210\n",
            "Student Accuracy: 9.74%, Parameters: 238510\n"
          ]
        }
      ],
      "source": [
        "teacher_params = count_parameters(teacher)\n",
        "# Create an instance of the StudentModel\n",
        "student = StudentModel()\n",
        "student_params = count_parameters(student)\n",
        "\n",
        "teacher_accuracy = evaluate(teacher, test_loader)\n",
        "student_accuracy = evaluate(student, test_loader)\n",
        "\n",
        "print(f\"Teacher Model Parameters: {teacher_params}\")\n",
        "print(f\"Student Model Parameters: {student_params}\")\n",
        "\n",
        "print(f\"Teacher Accuracy: {teacher_accuracy:.2f}%, Parameters: {teacher_params}\")\n",
        "print(f\"Student Accuracy: {student_accuracy:.2f}%, Parameters: {student_params}\")"
      ]
    }
  ],
  "metadata": {
    "colab": {
      "provenance": []
    },
    "kernelspec": {
      "display_name": "Python 3",
      "name": "python3"
    },
    "language_info": {
      "name": "python"
    }
  },
  "nbformat": 4,
  "nbformat_minor": 0
}